{
  "nbformat": 4,
  "nbformat_minor": 0,
  "metadata": {
    "colab": {
      "provenance": [],
      "authorship_tag": "ABX9TyO+N2x4XlpDQhH3O5B5VXT0",
      "include_colab_link": true
    },
    "kernelspec": {
      "name": "python3",
      "display_name": "Python 3"
    },
    "language_info": {
      "name": "python"
    }
  },
  "cells": [
    {
      "cell_type": "markdown",
      "metadata": {
        "id": "view-in-github",
        "colab_type": "text"
      },
      "source": [
        "<a href=\"https://colab.research.google.com/github/tarunchand/Intelligent-Systems/blob/main/cross_validation.ipynb\" target=\"_parent\"><img src=\"https://colab.research.google.com/assets/colab-badge.svg\" alt=\"Open In Colab\"/></a>"
      ]
    },
    {
      "cell_type": "code",
      "execution_count": null,
      "metadata": {
        "colab": {
          "base_uri": "https://localhost:8080/"
        },
        "id": "7LyoMpr338Y5",
        "outputId": "fdbfbb93-63f2-4bea-9154-23be49b2a265"
      },
      "outputs": [
        {
          "output_type": "stream",
          "name": "stdout",
          "text": [
            "\n",
            "=====================Number of NaN values in each column===================\n",
            "Date                 0\n",
            "Open                 0\n",
            "High                 0\n",
            "Low                  0\n",
            "Close                0\n",
            "Volume               0\n",
            "Trend                0\n",
            "SocialSentiment    503\n",
            "FutureTrend          0\n",
            "dtype: int64\n"
          ]
        }
      ],
      "source": [
        "import pandas\n",
        "import warnings\n",
        "warnings.simplefilter(action='ignore', category=FutureWarning)\n",
        "warnings.filterwarnings('ignore', category=DeprecationWarning)\n",
        "warnings.filterwarnings('ignore')\n",
        "\n",
        "from matplotlib import pyplot\n",
        "\n",
        "from matplotlib import rcParams\n",
        "rcParams['font.family'] = 'Times New Roman'\n",
        "rcParams['font.size'] = '10'\n",
        "\n",
        "from sklearn.preprocessing import StandardScaler\n",
        "from sklearn.pipeline import Pipeline\n",
        "from sklearn.model_selection import train_test_split\n",
        "from sklearn.model_selection import KFold\n",
        "from sklearn.model_selection import cross_val_score\n",
        "from sklearn.metrics import classification_report\n",
        "from sklearn.metrics import confusion_matrix\n",
        "from sklearn.metrics import accuracy_score\n",
        "from sklearn.ensemble import GradientBoostingClassifier\n",
        "from sklearn.ensemble import RandomForestClassifier\n",
        "from sklearn.ensemble import ExtraTreesClassifier\n",
        "\n",
        "names = ['Date', 'Open', 'High', 'Low', 'Close', 'Volume', 'Trend', 'SocialSentiment', 'FutureTrend']\n",
        "dataset = pandas.read_csv('data.csv', names=names, skiprows=[0])\n",
        "print('\\n=====================Number of NaN values in each column===================')\n",
        "print(dataset.isnull().sum())\n",
        "dataset.fillna(0, inplace=True)"
      ]
    },
    {
      "cell_type": "code",
      "source": [
        "from sklearn import preprocessing\n",
        "le = preprocessing.LabelEncoder()\n",
        "\n",
        "for column in dataset.columns:\n",
        "  if dataset[column].dtype == type(object):\n",
        "    dataset[column] = le.fit_transform(dataset[column].astype(str))\n",
        "\n",
        "print('\\n==================== class distribution ===================')\n",
        "class_counts = dataset.groupby('FutureTrend').size()\n",
        "print(class_counts)"
      ],
      "metadata": {
        "colab": {
          "base_uri": "https://localhost:8080/"
        },
        "id": "QqjrSof59iIx",
        "outputId": "c1cdf9fc-a9a4-414d-b0d6-c0d7b88ca345"
      },
      "execution_count": null,
      "outputs": [
        {
          "output_type": "stream",
          "name": "stdout",
          "text": [
            "\n",
            "==================== class distribution ===================\n",
            "FutureTrend\n",
            "0    247\n",
            "1      2\n",
            "2    254\n",
            "dtype: int64\n"
          ]
        }
      ]
    },
    {
      "cell_type": "code",
      "source": [
        "array = dataset.values\n",
        "X = array[:,0:8]\n",
        "Y = array[:,8]\n",
        "validation_size = 0.30\n",
        "num_folds = 10\n",
        "seed = 7\n",
        "scoring = 'accuracy'\n",
        "X_train, X_validation, Y_train, Y_validation = train_test_split(X, Y, test_size=validation_size, random_state=seed)"
      ],
      "metadata": {
        "id": "h76snZBH-y_p"
      },
      "execution_count": null,
      "outputs": []
    },
    {
      "cell_type": "code",
      "source": [
        "models = []\n",
        "models.append(('GBM', GradientBoostingClassifier()))\n",
        "models.append(('RF', RandomForestClassifier()))\n",
        "models.append(('ET', ExtraTreesClassifier()))\n",
        "print('\\n============= models evaluation on normal dataset==============')\n",
        "results = []\n",
        "names = []\n",
        "for name, model in models:\n",
        "  kfold = KFold(n_splits=num_folds)\n",
        "  cv_results = cross_val_score(model, X_train, Y_train, cv=kfold, scoring=scoring)\n",
        "  results.append(cv_results)\n",
        "  names.append(name)\n",
        "  msg = '%s: %f {%f}' % (name, cv_results.mean() * 100, cv_results.std())\n",
        "  print(msg)"
      ],
      "metadata": {
        "colab": {
          "base_uri": "https://localhost:8080/"
        },
        "id": "ZXVbvP7z_rXf",
        "outputId": "15faaaba-574f-4669-9c57-b03e422bf3c9"
      },
      "execution_count": null,
      "outputs": [
        {
          "output_type": "stream",
          "name": "stdout",
          "text": [
            "\n",
            "============= models evaluation on normal dataset==============\n",
            "GBM: 49.111111 {0.106198}\n",
            "RF: 48.817460 {0.085883}\n",
            "ET: 51.714286 {0.071371}\n"
          ]
        }
      ]
    },
    {
      "cell_type": "code",
      "source": [
        "print('\\n=========================compare algorithms graphically===================')\n",
        "fig = pyplot.figure()\n",
        "fig.suptitle('Algorithm Comparison')\n",
        "ax = fig.add_subplot(111)\n",
        "pyplot.boxplot(results)\n",
        "ax.set_xticklabels(names)\n",
        "pyplot.show()"
      ],
      "metadata": {
        "colab": {
          "base_uri": "https://localhost:8080/",
          "height": 383
        },
        "id": "I-S8EC4vCMuC",
        "outputId": "59e34170-0aa2-4df2-93ff-e729274b8add"
      },
      "execution_count": null,
      "outputs": [
        {
          "output_type": "stream",
          "name": "stderr",
          "text": [
            "WARNING:matplotlib.font_manager:findfont: Font family ['Times New Roman'] not found. Falling back to DejaVu Sans.\n",
            "WARNING:matplotlib.font_manager:findfont: Font family ['Times New Roman'] not found. Falling back to DejaVu Sans.\n"
          ]
        },
        {
          "output_type": "stream",
          "name": "stdout",
          "text": [
            "\n",
            "=========================compare algorithms graphically===================\n"
          ]
        },
        {
          "output_type": "display_data",
          "data": {
            "text/plain": [
              "<Figure size 432x288 with 1 Axes>"
            ],
            "image/png": "[encoded data removed]"
          },
          "metadata": {
            "needs_background": "light"
          }
        }
      ]
    },
    {
      "cell_type": "code",
      "source": [
        "print('\\n=============== Make prediction on validation dataset ==============')\n",
        "prediction_accuracy = []\n",
        "print('\\n=================GBM accuracy on validation dataset ================')\n",
        "gbm_accuracy = []\n",
        "gbm = GradientBoostingClassifier()\n",
        "gbm.fit(X_train, Y_train)\n",
        "gbm_predictions = gbm.predict(X_validation)\n",
        "gbm_accuracy = accuracy_score(Y_validation, gbm_predictions)*100\n",
        "\n",
        "print('Accuracy: %f' % gbm_accuracy)\n",
        "print('\\nConfusion matrix')\n",
        "print(confusion_matrix(Y_validation, gbm_predictions))"
      ],
      "metadata": {
        "id": "0EcrgW-TFOX0"
      },
      "execution_count": null,
      "outputs": []
    }
  ]
}